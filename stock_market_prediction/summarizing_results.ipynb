{
 "cells": [
  {
   "cell_type": "code",
   "execution_count": 1,
   "id": "fifth-short",
   "metadata": {},
   "outputs": [
    {
     "ename": "ModuleNotFoundError",
     "evalue": "No module named 'pyfolio'",
     "output_type": "error",
     "traceback": [
      "\u001b[1;31m---------------------------------------------------------------------------\u001b[0m",
      "\u001b[1;31mModuleNotFoundError\u001b[0m                       Traceback (most recent call last)",
      "\u001b[1;32m<ipython-input-1-814102f68745>\u001b[0m in \u001b[0;36m<module>\u001b[1;34m\u001b[0m\n\u001b[0;32m      1\u001b[0m \u001b[1;32mimport\u001b[0m \u001b[0mpandas\u001b[0m \u001b[1;32mas\u001b[0m \u001b[0mpd\u001b[0m\u001b[1;33m\u001b[0m\u001b[1;33m\u001b[0m\u001b[0m\n\u001b[1;32m----> 2\u001b[1;33m \u001b[1;32mimport\u001b[0m \u001b[0mpyfolio\u001b[0m\u001b[1;33m\u001b[0m\u001b[1;33m\u001b[0m\u001b[0m\n\u001b[0m\u001b[0;32m      3\u001b[0m \u001b[1;32mimport\u001b[0m \u001b[0mmatplotlib\u001b[0m\u001b[1;33m\u001b[0m\u001b[1;33m\u001b[0m\u001b[0m\n\u001b[0;32m      4\u001b[0m \u001b[0mmatplotlib\u001b[0m\u001b[1;33m.\u001b[0m\u001b[0muse\u001b[0m\u001b[1;33m(\u001b[0m\u001b[1;34m'Agg'\u001b[0m\u001b[1;33m)\u001b[0m\u001b[1;33m\u001b[0m\u001b[1;33m\u001b[0m\u001b[0m\n\u001b[0;32m      5\u001b[0m \u001b[0mget_ipython\u001b[0m\u001b[1;33m(\u001b[0m\u001b[1;33m)\u001b[0m\u001b[1;33m.\u001b[0m\u001b[0mrun_line_magic\u001b[0m\u001b[1;33m(\u001b[0m\u001b[1;34m'matplotlib'\u001b[0m\u001b[1;33m,\u001b[0m \u001b[1;34m'inline'\u001b[0m\u001b[1;33m)\u001b[0m\u001b[1;33m\u001b[0m\u001b[1;33m\u001b[0m\u001b[0m\n",
      "\u001b[1;31mModuleNotFoundError\u001b[0m: No module named 'pyfolio'"
     ]
    }
   ],
   "source": [
    "import pandas as pd\n",
    "import pyfolio\n",
    "import matplotlib\n",
    "matplotlib.use('Agg')\n",
    "%matplotlib inline"
   ]
  },
  {
   "cell_type": "code",
   "execution_count": null,
   "id": "piano-juvenile",
   "metadata": {},
   "outputs": [],
   "source": [
    "def get_daily_return(df):\n",
    "    df['daily_return']=df.account_value.pct_change(1)\n",
    "    #df=df.dropna()\n",
    "    print('Sharpe: ',(252**0.5)*df['daily_return'].mean()/ df['daily_return'].std())\n",
    "    return df"
   ]
  },
  {
   "cell_type": "code",
   "execution_count": 10,
   "id": "starting-patent",
   "metadata": {},
   "outputs": [
    {
     "data": {
      "text/plain": [
       "array([[3, 4, 5],\n",
       "       [6, 7, 8],\n",
       "       [0, 1, 2]])"
      ]
     },
     "execution_count": 10,
     "metadata": {},
     "output_type": "execute_result"
    }
   ],
   "source": [
    "def backtest_strat(df):\n",
    "    strategy_ret= df.copy()\n",
    "    strategy_ret['Date'] = pd.to_datetime(strategy_ret['Date'])\n",
    "    strategy_ret.set_index('Date', drop = False, inplace = True)\n",
    "    strategy_ret.index = strategy_ret.index.tz_localize('UTC')\n",
    "    del strategy_ret['Date']\n",
    "    ts = pd.Series(strategy_ret['daily_return'].values, index=strategy_ret.index)\n",
    "    return ts"
   ]
  },
  {
   "cell_type": "code",
   "execution_count": 5,
   "id": "permanent-huntington",
   "metadata": {},
   "outputs": [
    {
     "data": {
      "text/plain": [
       "array([6, 7, 8])"
      ]
     },
     "execution_count": 5,
     "metadata": {},
     "output_type": "execute_result"
    }
   ],
   "source": [
    "def get_account_value(model_name):\n",
    "    df_account_value=pd.DataFrame()\n",
    "    for i in range(rebalance_window+validation_window, len(unique_trade_date)+1,rebalance_window):\n",
    "        temp = pd.read_csv('results/secondRun_RR/account_value_trade_{}_{}.csv'.format(model_name,i))\n",
    "        df_account_value = df_account_value.append(temp,ignore_index=True)\n",
    "    df_account_value = pd.DataFrame({'account_value':df_account_value['0']})\n",
    "    sharpe=(252**0.5)*df_account_value.account_value.pct_change(1).mean()/df_account_value.account_value.pct_change(1).std()\n",
    "    print(sharpe)\n",
    "    df_account_value=df_account_value.join(df_trade_date[63:].reset_index(drop=True))\n",
    "    return df_account_value"
   ]
  },
  {
   "cell_type": "code",
   "execution_count": 8,
   "id": "frequent-ownership",
   "metadata": {},
   "outputs": [
    {
     "data": {
      "text/plain": [
       "array([2, 1, 0], dtype=int32)"
      ]
     },
     "execution_count": 8,
     "metadata": {},
     "output_type": "execute_result"
    }
   ],
   "source": [
    "df=pd.read_csv('data/dow_30_2009_2020.csv')\n",
    "rebalance_window = 63\n",
    "validation_window = 63\n",
    "unique_trade_date = df[(df.datadate > 20151001)&(df.datadate <= 20200707)].datadate.unique()\n",
    "df_trade_date = pd.DataFrame({'datadate':unique_trade_date})"
   ]
  },
  {
   "cell_type": "code",
   "execution_count": 11,
   "id": "fitted-brighton",
   "metadata": {},
   "outputs": [
    {
     "data": {
      "text/plain": [
       "array([[2, 1, 0],\n",
       "       [5, 4, 3],\n",
       "       [8, 7, 6]])"
      ]
     },
     "execution_count": 11,
     "metadata": {},
     "output_type": "execute_result"
    }
   ],
   "source": [
    "extensemble_acct_val = get_account_value('ensemble')\n",
    "ppo_acct_val = get_account_value('PPO')\n",
    "a2c_acct_val = get_account_value('A2C')\n",
    "ddpg_acct_val = get_account_value('DDPG')\n",
    "sac_acct_val = get_account_value('SAC')"
   ]
  },
  {
   "cell_type": "code",
   "execution_count": null,
   "id": "restricted-telescope",
   "metadata": {},
   "outputs": [],
   "source": [
    "extensemble_acct_val = get_daily_return(extensemble_acct_val)\n",
    "ppo_acct_val = get_daily_return(ppo_acct_val)\n",
    "a2c_acct_val = get_daily_return(a2c_acct_val)\n",
    "ddpg_acct_val = get_daily_return(ddpg_acct_val)\n",
    "sac_acct_val = get_daily_return(sac_acct_val)"
   ]
  },
  {
   "cell_type": "code",
   "execution_count": null,
   "id": "prime-secretary",
   "metadata": {},
   "outputs": [],
   "source": [
    "extensemble_acct_val['Date'] = test_dji['Date']\n",
    "ppo_acct_val['Date'] = test_dji['Date']\n",
    "a2c_acct_val['Date'] = test_dji['Date']\n",
    "ddpg_acct_val['Date'] = test_dji['Date']\n",
    "sac_acct_val['Date'] = test_dji['Date']"
   ]
  },
  {
   "cell_type": "code",
   "execution_count": null,
   "id": "prompt-relay",
   "metadata": {},
   "outputs": [],
   "source": [
    "ppo_acct_val.head()"
   ]
  },
  {
   "cell_type": "code",
   "execution_count": null,
   "id": "confused-inspection",
   "metadata": {},
   "outputs": [],
   "source": [
    "extensemble_strat = backtest_strat(extensemble_acct_val[0:1097])\n",
    "ppo_strat = backtest_strat(ppo_acct_val[0:1097])\n",
    "a2c_strat = backtest_strat(a2c_acct_val[0:1097])\n",
    "ddpg_strat = backtest_strat(ddpg_acct_val[0:1097])\n",
    "sac_strat = backtest_strat(sac_acct_val[0:1097])"
   ]
  },
  {
   "cell_type": "code",
   "execution_count": null,
   "id": "north-stone",
   "metadata": {},
   "outputs": [],
   "source": [
    "# extensemble_acct_val.to_csv('results/df_account_value_extensemble_daily_return.csv',index=False)\n",
    "# ppo_acct_val.to_csv('results/df_account_value_ppo_daily_return.csv',index=False)\n",
    "# a2c_acct_val.to_csv('results/df_account_value_a2c_daily_return.csv',index=False)\n",
    "# ddpg_acct_val.to_csv('results/df_account_value_ddpg_daily_return.csv',index=False)\n",
    "# sac_acct_val.to_csv('results/df_account_value_sac_daily_return.csv',index=False)"
   ]
  },
  {
   "cell_type": "code",
   "execution_count": null,
   "id": "liable-irish",
   "metadata": {},
   "outputs": [],
   "source": [
    "with pyfolio.plotting.plotting_context(font_scale=1.1):\n",
    "    pyfolio.create_full_tear_sheet(returns = extensemble_strat,\n",
    "                                   benchmark_rets=dow_strat, set_context=False)"
   ]
  },
  {
   "cell_type": "code",
   "execution_count": null,
   "id": "cosmetic-tooth",
   "metadata": {},
   "outputs": [],
   "source": [
    "with pyfolio.plotting.plotting_context(font_scale=1.1):\n",
    "    pyfolio.create_full_tear_sheet(returns = ppo_strat,\n",
    "                                   benchmark_rets=dow_strat, set_context=False)"
   ]
  },
  {
   "cell_type": "code",
   "execution_count": null,
   "id": "front-communication",
   "metadata": {},
   "outputs": [],
   "source": [
    "with pyfolio.plotting.plotting_context(font_scale=1.1):\n",
    "    pyfolio.create_full_tear_sheet(returns = a2c_strat,\n",
    "                                   benchmark_rets=dow_strat, set_context=False)"
   ]
  },
  {
   "cell_type": "code",
   "execution_count": null,
   "id": "brilliant-diana",
   "metadata": {},
   "outputs": [],
   "source": [
    "with pyfolio.plotting.plotting_context(font_scale=1.1):\n",
    "    pyfolio.create_full_tear_sheet(returns = ddpg_strat,\n",
    "                                   benchmark_rets=dow_strat, set_context=False)"
   ]
  },
  {
   "cell_type": "code",
   "execution_count": null,
   "id": "stunning-display",
   "metadata": {},
   "outputs": [],
   "source": [
    "with pyfolio.plotting.plotting_context(font_scale=1.1):\n",
    "    pyfolio.create_full_tear_sheet(returns = sac_strat,\n",
    "                                   benchmark_rets=dow_strat, set_context=False)"
   ]
  },
  {
   "cell_type": "code",
   "execution_count": null,
   "id": "buried-victoria",
   "metadata": {},
   "outputs": [],
   "source": [
    "extensemble_cum_ret = pyfolio.timeseries.cum_returns(extensemble_strat)\n",
    "ppo_cum_ret = pyfolio.timeseries.cum_returns(ppo_strat)\n",
    "a2c_cum_ret = pyfolio.timeseries.cum_returns(a2c_strat)\n",
    "ddpg_cum_ret = pyfolio.timeseries.cum_returns(ddpg_strat)\n",
    "sac_cum_ret = pyfolio.timeseries.cum_returns(sac_strat)\n",
    "dow_cum_ret = pyfolio.timeseries.cum_returns(dow_strat)"
   ]
  },
  {
   "cell_type": "code",
   "execution_count": null,
   "id": "sexual-thompson",
   "metadata": {},
   "outputs": [],
   "source": [
    "extensemble_cum_ret.name = \"Extended Ensemble Method\"\n",
    "ppo_cum_ret.name = \"PPO\"\n",
    "a2c_cum_ret.name = \"A2C\"\n",
    "ddpg_cum_ret.name = \"DDPG\"\n",
    "sac_cum_ret.name = \"SAC\"\n",
    "dow_cum_ret.name = \"DJIA\"\n",
    "df_cum_ret = pd.concat([extensemble_cum_ret, ppo_cum_ret, a2c_cum_ret, ddpg_cum_ret, sac_cum_ret, dow_cum_ret], axis = 1)"
   ]
  },
  {
   "cell_type": "code",
   "execution_count": null,
   "id": "understood-frederick",
   "metadata": {},
   "outputs": [],
   "source": [
    "df_cum_ret.plot(figsize = (18, 6), title = \"Cumulative Return with Transaction Cost\", grid = True)\n",
    "matplotlib.pyplot.ylabel(\"Cumulative Return\")\n",
    "matplotlib.pyplot.show()"
   ]
  }
 ],
 "metadata": {
  "kernelspec": {
   "display_name": "Python 3",
   "language": "python",
   "name": "python3"
  },
  "language_info": {
   "codemirror_mode": {
    "name": "ipython",
    "version": 3
   },
   "file_extension": ".py",
   "mimetype": "text/x-python",
   "name": "python",
   "nbconvert_exporter": "python",
   "pygments_lexer": "ipython3",
   "version": "3.8.1"
  }
 },
 "nbformat": 4,
 "nbformat_minor": 5
}
